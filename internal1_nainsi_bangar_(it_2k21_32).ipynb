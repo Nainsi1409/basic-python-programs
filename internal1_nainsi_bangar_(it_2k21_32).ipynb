{
  "cells": [
    {
      "cell_type": "markdown",
      "metadata": {
        "id": "view-in-github",
        "colab_type": "text"
      },
      "source": [
        "<a href=\"https://colab.research.google.com/github/Nainsi1409/basic-python-programs/blob/main/internal1_nainsi_bangar_(it_2k21_32).ipynb\" target=\"_parent\"><img src=\"https://colab.research.google.com/assets/colab-badge.svg\" alt=\"Open In Colab\"/></a>"
      ]
    },
    {
      "cell_type": "code",
      "execution_count": null,
      "metadata": {
        "colab": {
          "base_uri": "https://localhost:8080/"
        },
        "id": "nGc2B8BP0ZmK",
        "outputId": "9a93a0b5-84ab-48cd-8206-e20aad8f68fe"
      },
      "outputs": [
        {
          "name": "stdout",
          "output_type": "stream",
          "text": [
            "enter the number=5\n",
            "enter the number= 4\n",
            "9\n",
            "substraction of a and b is = 1\n",
            "multiplication of a and b is 20\n",
            "division of a and b is 1.25\n"
          ]
        }
      ],
      "source": [
        "#arithmetic operation\n",
        "a=int(input(\"enter the number=\"))\n",
        "b=int(input('enter the number= '))\n",
        "sum=a+b\n",
        "print(sum)\n",
        "sub=a-b\n",
        "print(\"substraction of a and b is =\",sub)\n",
        "mul=a*b\n",
        "print(\"multiplication of a and b is\" ,mul)\n",
        "div=a/b\n",
        "print(\"division of a and b is\" ,div)"
      ]
    },
    {
      "cell_type": "code",
      "execution_count": null,
      "metadata": {
        "colab": {
          "base_uri": "https://localhost:8080/"
        },
        "id": "iW4RmZ2sGojY",
        "outputId": "b6f09642-ea6f-44e2-8069-7b6a143d642c"
      },
      "outputs": [
        {
          "name": "stdout",
          "output_type": "stream",
          "text": [
            "enter the no.=6\n",
            "no. is odd\n",
            "no.is prime\n"
          ]
        }
      ],
      "source": [
        "#even or odd numbers\n",
        "\n",
        "i=2\n",
        "a =int(input(\"enter the no.=\"))\n",
        "if a/2==0:\n",
        "  print(\"no is even\")\n",
        "else:\n",
        "  print(\"no. is odd\")\n",
        "\n",
        "\n",
        "#number is prime or not\n",
        "\n",
        "for i in range(2,a-1,1):\n",
        "  \n",
        " if a%i==0:\n",
        "    print(\"no.is prime\")\n",
        " else:\n",
        "   print(\"no.is not prime\") \n",
        " break  \n"
      ]
    },
    {
      "cell_type": "code",
      "execution_count": null,
      "metadata": {
        "id": "V4G_zNAzJyji"
      },
      "outputs": [],
      "source": [
        "#even number in a range\n",
        "\n",
        "for i in range (1,20):\n",
        " if i%2==0:\n",
        "   print(i)\n",
        "  \n",
        "  "
      ]
    },
    {
      "cell_type": "code",
      "execution_count": null,
      "metadata": {
        "id": "JFZTW2zxNCj9"
      },
      "outputs": [],
      "source": [
        "#prime number and non prime \n",
        "\n",
        "for i in range (2,20,1):\n",
        " for j in range (2,i,1):\n",
        "  if i%j==0:\n",
        "    print(i,\"is not prime\")\n",
        "    break\n",
        " else:\n",
        "    print(i)  \n",
        "  "
      ]
    },
    {
      "cell_type": "code",
      "execution_count": null,
      "metadata": {
        "id": "WYdsrCbpTD39"
      },
      "outputs": [],
      "source": [
        "#prime numbers in a range \n",
        "\n",
        "lower=int(input(\"enter the first limil\"))\n",
        "upper=int(input(\"enter the last limil\"))\n",
        "for i in range (lower,upper,1):\n",
        "  for j in range(2,i-1,1):\n",
        "    if i%j==0:\n",
        "      break\n",
        "  else:\n",
        "      print(i) \n",
        "      \n"
      ]
    },
    {
      "cell_type": "code",
      "execution_count": null,
      "metadata": {
        "id": "INHBDC9DZ0oi"
      },
      "outputs": [],
      "source": [
        "#fibonacci series\n",
        "n=int(input(\"enter the number\"))\n",
        "a=0\n",
        "b=1\n",
        " \n",
        "if n==1:\n",
        "   print(a)\n",
        "elif n==2:\n",
        "   print(a)\n",
        "   print(b)\n",
        "else:\n",
        "   print(a)\n",
        "   print(b)\n",
        "   for i in range (0,n-2,1):\n",
        "    num=a+b\n",
        "    a=b\n",
        "    b=num  \n",
        "    print(num)"
      ]
    },
    {
      "cell_type": "code",
      "execution_count": null,
      "metadata": {
        "id": "4z52ZrOQdJOi"
      },
      "outputs": [],
      "source": [
        "#factorial of a given number\n",
        "factorial=1\n",
        "i=2\n",
        "n=int(input(\"enter the number\"))\n",
        "if n<0:\n",
        "  print(\"number is negative ,please enter the positive number\")\n",
        "elif n==0 or n==1:\n",
        "  print(\"factorial is 1\")  \n",
        "else:\n",
        "  for i in range(2,n+1,1):\n",
        "    factorial=factorial*i\n",
        "    \n",
        "  print(factorial)"
      ]
    },
    {
      "cell_type": "code",
      "source": [
        "#reverse of a number\n",
        "num=int(input(\"enter the number\"))\n",
        "reversed_num=0\n",
        "\n",
        "while num!=0:\n",
        "  digit=num%10\n",
        "  reversed_num=reversed_num*10+digit\n",
        "  num=num//10\n",
        "print(\"reversed number is:\",reversed_num)"
      ],
      "metadata": {
        "id": "9ZW-fubhjTwr"
      },
      "execution_count": null,
      "outputs": []
    },
    {
      "cell_type": "code",
      "source": [
        "#armstrong no.\n",
        "num=int(input(\"enter the number\"))\n",
        "order=len(str(num))\n",
        "sum=0\n",
        "temp=num\n",
        "while num!=0:\n",
        "   rem=num%10\n",
        "   temp=temp//10\n",
        "   sum=sum+rem**order\n",
        "print(sum)  \n",
        "if temp==sum:\n",
        "  print(\"it is a armstrong number\")\n",
        "else:\n",
        "  print(\"it is not a armstrong number\")"
      ],
      "metadata": {
        "id": "2Sxc6aNDlHMf"
      },
      "execution_count": null,
      "outputs": []
    },
    {
      "cell_type": "code",
      "source": [
        "#no.is palindrom or not\n",
        "num=int(input(\"enter the number\"))\n",
        "temp=num\n",
        "rev=0\n",
        "\n",
        "while num!=0:\n",
        "   digit=num%10\n",
        "   rev=rev*10+digit\n",
        "   num=num//10\n",
        "if temp==rev:\n",
        "   print(\"no.is palindrom\")\n",
        "else:         \n",
        "   print(\" no. is not palindrom\")  "
      ],
      "metadata": {
        "id": "snUfvfTIlJaq"
      },
      "execution_count": null,
      "outputs": []
    },
    {
      "cell_type": "code",
      "source": [
        "#armstromg no. in range\n",
        "lower=1\n",
        "upper=200\n",
        "for num in range(lower,upper+1):\n",
        "  order=len(str(num))\n",
        "  sum = 0\n",
        "  temp=num\n",
        "  while temp!=0:\n",
        "    digit= temp % 10\n",
        "    sum = sum +digit**order\n",
        "    temp= temp//10\n",
        "\n",
        "  if num==sum:\n",
        "    print(num)\n",
        "\n",
        "\n"
      ],
      "metadata": {
        "id": "0J73DMESm-T4"
      },
      "execution_count": null,
      "outputs": []
    },
    {
      "cell_type": "code",
      "source": [
        "year=int(input(\"enter the number\"))\n",
        "if year%400==0 and year%100==0:\n",
        "  print(year,\"is leap year\")\n",
        "elif year%4==0 and year%100!=0:\n",
        "  print(year,\"is leap year\")\n",
        "else:\n",
        "  print(year,\"is not leap year\")"
      ],
      "metadata": {
        "id": "jVdWAq4Ko3kq"
      },
      "execution_count": null,
      "outputs": []
    },
    {
      "cell_type": "code",
      "source": [
        "#factors of a given number\n",
        "import math\n",
        "def factors(num):\n",
        "  i=1\n",
        "  while i<=num:\n",
        "    if num%i==0:\n",
        "      print( i ,end=\"  \")\n",
        "    i=i+1 \n",
        "n=int(input(\"enter the number\"))\n",
        "factors(n)"
      ],
      "metadata": {
        "id": "ul6UQa6kL19N"
      },
      "execution_count": null,
      "outputs": []
    },
    {
      "cell_type": "code",
      "source": [
        "#conversion decimal to binary,octal,hexadecimal\n",
        "dec=int(input(\"enter the decimal no.: \"))\n",
        "print(dec,\"is\", bin(dec),\"in binary\")\n",
        "print(dec,\"is\", oct(dec),\"in octal\")\n",
        "print(dec,\"is \",hex(dec),\"in hexadecimal\")"
      ],
      "metadata": {
        "id": "iurPiZqSQbQS"
      },
      "execution_count": null,
      "outputs": []
    },
    {
      "cell_type": "code",
      "source": [
        "#factorial using recursion\n",
        "def fact(num):\n",
        "  return 1 if num==0 or num==1 else num*fact(num-1);\n",
        "\n",
        "num=int(input(\"enter the number\"))\n",
        "print(\"factorial of \",num,\"is\", )\n",
        "fact(num)"
      ],
      "metadata": {
        "id": "qJdSmqj7R3TE"
      },
      "execution_count": null,
      "outputs": []
    },
    {
      "cell_type": "code",
      "source": [
        "#fibonacci series using recursion\n",
        "def recur_fibo(n):\n",
        "  if n<=1:\n",
        "    return n\n",
        "  else:\n",
        "    return (recur_fibo(n-1)+recur_fibo(n-2))\n",
        "nterms=int(input(\"enter the term:\"))\n",
        "if nterms<=0:\n",
        "  print(\"no.is negative please enter the positive number\")\n",
        "else:\n",
        "  print(\"fibonacci series\")\n",
        "  for i in range (nterms):\n",
        "     print(recur_fibo(i))\n"
      ],
      "metadata": {
        "id": "cFzxcpMKU-RF"
      },
      "execution_count": null,
      "outputs": []
    },
    {
      "cell_type": "code",
      "source": [
        "#sum of n natural number using recursion\n",
        "def recur_sum(n):\n",
        "  if n<=1:\n",
        "    return n\n",
        "  else:\n",
        "    return n+recur_sum(n-1)\n",
        "num=int(input(\"enter the number:\"))\n",
        "if num<=0:\n",
        "  print(\"enter the positive number :\")\n",
        "\n",
        "else:\n",
        "  print(\"the sum is:\",recur_sum(num))\n"
      ],
      "metadata": {
        "id": "3BiDB9AxailN"
      },
      "execution_count": null,
      "outputs": []
    },
    {
      "cell_type": "code",
      "source": [
        "#conversion decimal to binary using recursion\n",
        "def binary(n):\n",
        "  if n>1:\n",
        "    binary(n//2)\n",
        "  print(n%2,end='')\n",
        "dec=int(input(\"enter the number\"))\n",
        "binary(dec)"
      ],
      "metadata": {
        "id": "D6qFsMNtdSlo"
      },
      "execution_count": null,
      "outputs": []
    },
    {
      "cell_type": "code",
      "source": [
        "# power of 2 using anonymous function\n",
        "numbers=[2,3,4,5,6,7]\n",
        "sq_list= list(map((lambda x:x**2),numbers))\n",
        "print(sq_list)\n"
      ],
      "metadata": {
        "id": "cZPDTJsOuSr0"
      },
      "execution_count": null,
      "outputs": []
    },
    {
      "cell_type": "code",
      "source": [
        "#area of triangle using lambda function\n",
        "area=lambda s,a,b,c:(s*(s-a)*(s-b)*(s-c))**0.5\n",
        "\n",
        "a=int(input(\"enter the number\"))\n",
        "b=int(input(\"enter the number\"))\n",
        "c=int(input(\"enter the number\"))\n",
        "s=(a+b+c)/2\n",
        "print(\"s\",s)\n",
        "print(\"area of triangle is\",area(s,a,b,c))\n",
        "\n",
        "#area of circle using lambda function\n",
        "area=lambda r:3.14*r*r\n",
        "r=int(input(\"enter the radious\"))\n",
        "print(\"area of circle is\",area(r))\n",
        "\n",
        "#area of cylender using lambda function\n",
        "area=lambda r,h:2*3.14*r*h\n",
        "r=int(input(\"enter the radious\"))\n",
        "h=int(input(\"enter the height\"))\n",
        "print(\"area of cylender is\",area(r,h)))\n",
        "\n"
      ],
      "metadata": {
        "id": "dodCZZ5p0l5c"
      },
      "execution_count": null,
      "outputs": []
    },
    {
      "cell_type": "code",
      "source": [
        "#add two matrices\n",
        "x=[[2,3,5],\n",
        "   [6,7,8],\n",
        "   [9,4,2]]\n",
        "y=[[2,5,7],\n",
        "   [8,7,3],\n",
        "   [4,2,2]]\n",
        "sum=[[0,0,0],\n",
        "   [0,0,0],\n",
        "   [0,0,0]]\n",
        "\n",
        "for i in range(len(x)):\n",
        "  for j in range(len(x[0])):\n",
        "    sum[i][j]=x[i][j]+y[i][j]\n",
        "for r in sum:\n",
        "  print(\"sum of two matrices\",r)\n",
        "\n",
        "\n"
      ],
      "metadata": {
        "id": "poN70I7W5yjI"
      },
      "execution_count": null,
      "outputs": []
    },
    {
      "cell_type": "code",
      "source": [
        "#multiply two matrices\n",
        "x=[[2,3,5],\n",
        "   [6,7,8],\n",
        "   [9,4,2]]\n",
        "y=[[2,5,7],\n",
        "   [8,3,3],\n",
        "   [4,7,2]]\n",
        "mul=[[1,1,1],\n",
        "     [1,1,1],\n",
        "     [1,1,1]]\n",
        "\n",
        "for i in range(len(x)):\n",
        "  for j in range(len(y[0])):\n",
        "    for k in range(len(y)):\n",
        "       mul[i][j]+=x[i][k]*y[k][j]\n",
        "for m in mul:\n",
        "  print(m)"
      ],
      "metadata": {
        "id": "itA--W3s_k0o"
      },
      "execution_count": null,
      "outputs": []
    },
    {
      "cell_type": "code",
      "source": [
        "#transpose of matrices\n",
        "x=[[1,2,3],\n",
        "   [4,5,6]]\n",
        "\n",
        "y=[[0,0],\n",
        "   [0,0],\n",
        "   [0,0]]\n",
        "\n",
        "for i in range(len(x)):\n",
        "  for j in range(len(x[0])):\n",
        "     y[j][i]=x[i][j]\n",
        "for r in y :\n",
        "  print(r)"
      ],
      "metadata": {
        "id": "s5CcmBWJBQ7y"
      },
      "execution_count": null,
      "outputs": []
    },
    {
      "cell_type": "code",
      "source": [
        "#average of numeric \n",
        "list=[2,3,4,5,6,7,8]\n",
        "l= sum(list)/len(list)\n",
        "print(l)"
      ],
      "metadata": {
        "id": "pb3weRp1ECFr"
      },
      "execution_count": null,
      "outputs": []
    },
    {
      "cell_type": "code",
      "source": [
        "#slicing operation\n",
        "list=[2,3,4,5,6,7,8,9,1]\n",
        "print(list[:])\n",
        "print(list[1:4])\n",
        "print(list[2:])\n",
        "print(list[:4])\n",
        "print(list[1:7:2])\n",
        "print(list[::-1])\n",
        "print(list[5:2:-1])"
      ],
      "metadata": {
        "id": "_sji6qm3G3ks"
      },
      "execution_count": null,
      "outputs": []
    },
    {
      "cell_type": "code",
      "source": [
        "#concatinate two list\n",
        "list1=[1,2,3,4,5]\n",
        "list2=[5,6,7,8,3]\n",
        "list3=[2,4,6]\n",
        "list1.extend(list2)\n",
        "print(list1)\n",
        "\n",
        "result=list2+list3\n",
        "print(\"result\",result)\n",
        "\n",
        "\n",
        "for i in list3:\n",
        "  list2.append(i)\n",
        "print(list2)"
      ],
      "metadata": {
        "id": "gHzeRxuVIlcD"
      },
      "execution_count": null,
      "outputs": []
    },
    {
      "cell_type": "code",
      "source": [
        "#find index of specific element and occurences\n",
        "list=[2,3,6,6,4,5,6,7]\n",
        "index=list.index(6)\n",
        "count=0\n",
        "print(\"index\",index)\n",
        "for i in list:\n",
        "  if i==6:\n",
        "    count=count+1\n",
        "print(\"count\",count)"
      ],
      "metadata": {
        "id": "7_x_ssgXtirF"
      },
      "execution_count": null,
      "outputs": []
    },
    {
      "cell_type": "code",
      "source": [
        "# findduplicates in the list\n",
        "list=[2,2,3,4,5,4,7,8,9,3,2]\n",
        "unique_list=[]\n",
        "duplicate_list=[]\n",
        "for i in list:\n",
        "  if i not in unique_list:\n",
        "    unique_list.append(i)\n",
        "  elif i not in duplicate_list:\n",
        "    duplicate_list.append(i)\n",
        "print(\"duplicate_list\",duplicate_list)\n",
        "print(\"unique_list\",unique_list)"
      ],
      "metadata": {
        "id": "RTMBO0XDvDXt"
      },
      "execution_count": null,
      "outputs": []
    },
    {
      "cell_type": "code",
      "source": [
        "#iterate dictionary using for loop\n",
        "dt={'a':\"juice\",'b':\"grill\",'c':\"corn\"}\n",
        "for key in dt:\n",
        "  print(key)\n",
        "for value in dt.values():\n",
        "  print(value)\n",
        "for key,value in dt.items():\n",
        "  print(key,value)"
      ],
      "metadata": {
        "id": "P_JxRKE4xZIF"
      },
      "execution_count": null,
      "outputs": []
    },
    {
      "cell_type": "code",
      "source": [
        "#nested dictionary\n",
        "id={1: {\"name\":\"nainsi\",\"age\":\"20\",\"gender\":\"female\"},\n",
        "    2: {\"name\":\"gurpreet\",\"age\":\"21\",\"gender\":\"female\"}}\n",
        "print(id)\n",
        "print(id[1][\"name\"])\n",
        "print(id[1][\"age\"])\n",
        "print(id[1][\"gender\"])\n",
        "print(id[2][\"name\"])\n",
        "print(id[2][\"age\"])\n",
        "print(id[2][\"gender\"])\n",
        "#add element in dictionary\n",
        "id[3]={}\n",
        "id[3][\"name\"]=\"tejasvi\"\n",
        "id[3][\"age\"]=\"21\"\n",
        "id[3][\"gender\"]=\"female\"\n",
        "print(id[3])\n",
        "print(id)\n",
        "id[4]={\"name\":\"pranshi\",\"age\":\"20\",\"gender\":\"female\"}\n",
        "print(id[4])\n",
        "print(id)\n",
        "del id[4][\"gender\"]\n",
        "print(id[4])\n",
        "del id[3],id[4]\n",
        "print(id)\n"
      ],
      "metadata": {
        "id": "o67keB5k3VjL"
      },
      "execution_count": null,
      "outputs": []
    },
    {
      "cell_type": "code",
      "source": [
        "#sorted dictionary\n",
        "dt={\"name\":\"nainsi\",\"age\":\"20\",\"gender\":\"female\"}\n",
        "sorted_dict=sorted(dt.values())\n",
        "print(sorted_dict)\n"
      ],
      "metadata": {
        "id": "Rh5QNO6J7gHY"
      },
      "execution_count": null,
      "outputs": []
    }
  ],
  "metadata": {
    "colab": {
      "provenance": [],
      "authorship_tag": "ABX9TyMmqyvEwHl4ZZbdm46boauU",
      "include_colab_link": true
    },
    "kernelspec": {
      "display_name": "Python 3",
      "name": "python3"
    },
    "language_info": {
      "name": "python"
    }
  },
  "nbformat": 4,
  "nbformat_minor": 0
}